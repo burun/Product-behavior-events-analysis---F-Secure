{
 "cells": [
  {
   "cell_type": "markdown",
   "metadata": {},
   "source": [
    "The goal of this homework is to evaluate your coding skills, style and maturity. To demonstrate those, submit the below described tasks.\n",
    "\n",
    "Homework instructions Implement an application processor which can process events in “streaming” manner. We like to see code, preferably Javascript. An obfuscated sample dataset to be used as input is provided here: http://ew1-fscdev-ds-public.s3-website-eu-west-1.amazonaws.com/obfuscated_data.xz (a 58MB compressed file containing some 1.500.000 events). These events represent typical product behavior events, such as product launches, purchases, user interactions, etc, from various devices and platforms.\n",
    "\n",
    "Using this processor, try to answer at least some of the **following questions**:\n",
    "\n",
    "- How many times has a particular product has been launched during this time period? How many first-time launches can you detect for this product?\n",
    "- Can you detect duplicate events? How?\n",
    "- Do you observe anything weird in timestamps?\n",
    "- What kind of statistics do you think are interesting? How could you visualize this?\n",
    "- How would you store the data so that further processing and/or analysis would be easy?\n",
    "- If you should prepare a maintenance time for the processor, when would you do it in order to cause minimal impact to products?\n",
    "- Which device has longest ‘activity time’ max('first event – latest event')\n",
    "\n",
    "**Events and data format**:\n",
    "\n",
    "- The data file contains one event per line\n",
    "- Each event is in json format\n",
    "- Certain fields have been obfuscated. These values are still comparable to each other when trying to match and compare events.\n",
    "- The events contain a lot of information. \n",
    "\n",
    "The following **fields** might be of particular importance (but feel free to find/use others):\n",
    "- type – describes what kind of event occured (launch, purchase, user_interaction, etc) •\tDepending on the type, certain other packages might be available. If for example type is “purchase”, there is a “purchase” package containg information about the actual purchase. \n",
    "- source – the name of the product. This is obfuscated to show product-a, product-b, etc. \n",
    "- event_id – a unique ID for this particular event\n",
    "- application – a package containing information about the application\n",
    "- time – a package containing information about when the event was sent (by the device) and when it was received\n",
    "- device – a package containing information about the device.\n",
    "- device.device_id – an identifier for this device. This can be used to find events from the same device\n",
    "- sender_info – a package containing information about the sending device.\n",
    "- sender_info.geo.country – the country where the event originated from\n",
    "- sender_info.geo.ll – the longitude and latitude where the event originated from\n"
   ]
  },
  {
   "cell_type": "code",
   "execution_count": 1,
   "metadata": {
    "collapsed": false
   },
   "outputs": [],
   "source": [
    "import os.path\n",
    "import json\n",
    "import ijson\n",
    "import datetime\n",
    "\n",
    "import pandas as pd\n",
    "import numpy as np\n",
    "import matplotlib.pyplot as plt\n",
    "%matplotlib inline\n",
    "plt.style.use('ggplot')\n",
    "\n",
    "import folium\n",
    "from folium import plugins"
   ]
  },
  {
   "cell_type": "code",
   "execution_count": 2,
   "metadata": {
    "collapsed": false
   },
   "outputs": [],
   "source": [
    "# To set the data path of json dataset\n",
    "\n",
    "data_path = os.path.join(os.path.dirname('__file__'), \"Data/obfuscated_data_array.json\")"
   ]
  },
  {
   "cell_type": "markdown",
   "metadata": {},
   "source": [
    "### How many times has a particular product has been launched during this time period?\n",
    "\n",
    "To calculate the times a product be launched, firstly it needs to filter all the launch events from dataset, then to split them based on different products and calculate the number of each product."
   ]
  },
  {
   "cell_type": "code",
   "execution_count": 3,
   "metadata": {
    "collapsed": false
   },
   "outputs": [],
   "source": [
    "# To select the data need to be extracted\n",
    "launch_columns = [\n",
    "    'event_id',\n",
    "    'source',\n",
    "    'type',\n",
    "    'time',\n",
    "    'device_id'\n",
    "]\n",
    "\n",
    "# extract the events data\n",
    "launch_events = []\n",
    "\n",
    "with open(data_path, 'r') as f:\n",
    "    objects = ijson.items(f, 'item')\n",
    "    for row in objects:\n",
    "        selected_row = []\n",
    "        if row['type'] == \"launch\":\n",
    "            for item in launch_columns:\n",
    "                if item == \"device_id\":\n",
    "                    selected_row.append(row['device'][item])\n",
    "                elif item == \"time\":\n",
    "                    selected_row.append(row[item]['send_timestamp'])\n",
    "                else:\n",
    "                    selected_row.append(row[item])\n",
    "            launch_events.append(selected_row)"
   ]
  },
  {
   "cell_type": "code",
   "execution_count": 4,
   "metadata": {
    "collapsed": false
   },
   "outputs": [
    {
     "data": {
      "text/html": [
       "<div>\n",
       "<table border=\"1\" class=\"dataframe\">\n",
       "  <thead>\n",
       "    <tr style=\"text-align: right;\">\n",
       "      <th></th>\n",
       "      <th>event_id</th>\n",
       "      <th>source</th>\n",
       "      <th>type</th>\n",
       "      <th>time</th>\n",
       "      <th>device_id</th>\n",
       "    </tr>\n",
       "  </thead>\n",
       "  <tbody>\n",
       "    <tr>\n",
       "      <th>0</th>\n",
       "      <td>7c51ab3d-05c0-48ce-9035-a918f9457a16</td>\n",
       "      <td>product-a</td>\n",
       "      <td>launch</td>\n",
       "      <td>1433664323627</td>\n",
       "      <td>45beebf6372d236330ea501930fbab244285da53</td>\n",
       "    </tr>\n",
       "    <tr>\n",
       "      <th>1</th>\n",
       "      <td>34f02316-c294-43b0-9b99-0a913b054539</td>\n",
       "      <td>product-a</td>\n",
       "      <td>launch</td>\n",
       "      <td>1433661170085</td>\n",
       "      <td>cad557ce6377f92415590383efcd8edf310e8cc4</td>\n",
       "    </tr>\n",
       "    <tr>\n",
       "      <th>2</th>\n",
       "      <td>f80986d7-da49-47be-bf6f-d6e76cf45fe7</td>\n",
       "      <td>product-a</td>\n",
       "      <td>launch</td>\n",
       "      <td>1433661523527</td>\n",
       "      <td>cad557ce6377f92415590383efcd8edf310e8cc4</td>\n",
       "    </tr>\n",
       "    <tr>\n",
       "      <th>3</th>\n",
       "      <td>590aea5b-6280-41a3-a17e-abeb37f184c8</td>\n",
       "      <td>product-a</td>\n",
       "      <td>launch</td>\n",
       "      <td>1433678438984</td>\n",
       "      <td>cd6b1cc48a15ba7b172fd8edfa118e4f9c155c03</td>\n",
       "    </tr>\n",
       "    <tr>\n",
       "      <th>4</th>\n",
       "      <td>5eebad82-c332-491f-8946-b922825ca780</td>\n",
       "      <td>product-a</td>\n",
       "      <td>launch</td>\n",
       "      <td>1433684479349</td>\n",
       "      <td>07ca3ff6f7288c4861597e7f0561ba1a79e16370</td>\n",
       "    </tr>\n",
       "  </tbody>\n",
       "</table>\n",
       "</div>"
      ],
      "text/plain": [
       "                               event_id     source    type           time  \\\n",
       "0  7c51ab3d-05c0-48ce-9035-a918f9457a16  product-a  launch  1433664323627   \n",
       "1  34f02316-c294-43b0-9b99-0a913b054539  product-a  launch  1433661170085   \n",
       "2  f80986d7-da49-47be-bf6f-d6e76cf45fe7  product-a  launch  1433661523527   \n",
       "3  590aea5b-6280-41a3-a17e-abeb37f184c8  product-a  launch  1433678438984   \n",
       "4  5eebad82-c332-491f-8946-b922825ca780  product-a  launch  1433684479349   \n",
       "\n",
       "                                  device_id  \n",
       "0  45beebf6372d236330ea501930fbab244285da53  \n",
       "1  cad557ce6377f92415590383efcd8edf310e8cc4  \n",
       "2  cad557ce6377f92415590383efcd8edf310e8cc4  \n",
       "3  cd6b1cc48a15ba7b172fd8edfa118e4f9c155c03  \n",
       "4  07ca3ff6f7288c4861597e7f0561ba1a79e16370  "
      ]
     },
     "execution_count": 4,
     "metadata": {},
     "output_type": "execute_result"
    }
   ],
   "source": [
    "# To create a pandas dataframe from the events list\n",
    "launch_df = pd.DataFrame(launch_events, columns=launch_columns)\n",
    "\n",
    "# To preview the dataframe for first 5 rows.\n",
    "launch_df.head()"
   ]
  },
  {
   "cell_type": "code",
   "execution_count": 5,
   "metadata": {
    "collapsed": false
   },
   "outputs": [
    {
     "data": {
      "text/html": [
       "<div>\n",
       "<table border=\"1\" class=\"dataframe\">\n",
       "  <thead>\n",
       "    <tr style=\"text-align: right;\">\n",
       "      <th></th>\n",
       "      <th>product</th>\n",
       "      <th>values</th>\n",
       "    </tr>\n",
       "  </thead>\n",
       "  <tbody>\n",
       "    <tr>\n",
       "      <th>0</th>\n",
       "      <td>product-a</td>\n",
       "      <td>11932</td>\n",
       "    </tr>\n",
       "    <tr>\n",
       "      <th>1</th>\n",
       "      <td>product-b</td>\n",
       "      <td>168859</td>\n",
       "    </tr>\n",
       "    <tr>\n",
       "      <th>2</th>\n",
       "      <td>product-c</td>\n",
       "      <td>16690</td>\n",
       "    </tr>\n",
       "    <tr>\n",
       "      <th>3</th>\n",
       "      <td>product-d</td>\n",
       "      <td>223</td>\n",
       "    </tr>\n",
       "  </tbody>\n",
       "</table>\n",
       "</div>"
      ],
      "text/plain": [
       "     product  values\n",
       "0  product-a   11932\n",
       "1  product-b  168859\n",
       "2  product-c   16690\n",
       "3  product-d     223"
      ]
     },
     "execution_count": 5,
     "metadata": {},
     "output_type": "execute_result"
    }
   ],
   "source": [
    "# To create another dataframe to count for dfferent products from 'source' column\n",
    "product_df = pd.DataFrame(launch_df['source'].value_counts().sort_index()) # count values for products and sort by product names\n",
    "product_df.reset_index(inplace=True) # abstratc the product name to be a column\n",
    "product_df.columns = ['product', 'values'] # rename columns with more clear names\n",
    "product_df"
   ]
  },
  {
   "cell_type": "code",
   "execution_count": 6,
   "metadata": {
    "collapsed": false
   },
   "outputs": [
    {
     "data": {
      "image/png": "[encoded data removed]",
      "text/plain": [
       "<matplotlib.figure.Figure at 0x26e1b4efc88>"
      ]
     },
     "metadata": {},
     "output_type": "display_data"
    }
   ],
   "source": [
    "# To plot the count values for each products with matplotlib\n",
    "\n",
    "plt.figure(figsize=(8,6)) # set a new figure\n",
    "x = range(len(product_df))  # number of x-axis\n",
    "\n",
    "product_launch_bar = plt.bar(x, list(product_df['values']), align='center') # bar plot all the values\n",
    "plt.xticks(x, list(product_df['product']), fontsize=12) # set xticks by product name\n",
    "plt.ylim(0, 200000) # set ylim to mark annotation later\n",
    "plt.xlabel('Products', fontsize=14)\n",
    "plt.ylabel('Launch Times', fontsize=14)\n",
    "\n",
    "# To set a method for labeling the exact number on the bar chart\n",
    "def autolabel(rects):\n",
    "    # attach some annotation labels\n",
    "    for rect in rects:\n",
    "        height = int(rect.get_height())\n",
    "        plt.annotate(height, \n",
    "                (rect.get_x() + rect.get_width() / 2., height), \n",
    "                ha='center', \n",
    "                va='center', \n",
    "                xytext=(0, 10), \n",
    "                fontsize=12,\n",
    "                textcoords='offset points')\n",
    "\n",
    "autolabel(product_launch_bar) # lable the current bar chart"
   ]
  },
  {
   "cell_type": "markdown",
   "metadata": {},
   "source": [
    "### How many first-time launches can you detect for this product?\n",
    "\n",
    "To count the first-time launches for a product, if we took all the first launch events for each product on devices as the first-time launches during this period, we could count the unique device number as first-time launches. I will take product-b as an example."
   ]
  },
  {
   "cell_type": "code",
   "execution_count": 7,
   "metadata": {
    "collapsed": false
   },
   "outputs": [
    {
     "name": "stdout",
     "output_type": "stream",
     "text": [
      "There are 36532 first-time launches of product-b in this period.\n"
     ]
    }
   ],
   "source": [
    "# To create a new dataframe for all the launch events of product-b\n",
    "b_launch_df = launch_df[launch_df['source']=='product-b']\n",
    "\n",
    "# To count the unique device number as first-time launches\n",
    "b_first_launch_count = len(launch_df['device_id'].unique())\n",
    "print(\"There are %d first-time launches of product-b in this period.\" % b_first_launch_count)"
   ]
  },
  {
   "cell_type": "code",
   "execution_count": 8,
   "metadata": {
    "collapsed": false
   },
   "outputs": [
    {
     "data": {
      "image/png": "[encoded data removed]",
      "text/plain": [
       "<matplotlib.figure.Figure at 0x26e1b65c940>"
      ]
     },
     "metadata": {},
     "output_type": "display_data"
    }
   ],
   "source": [
    "# To calculate the non-first_launch times and make a list for plot\n",
    "launch_count = [b_first_launch_count, len(b_launch_df['device_id']) - b_first_launch_count]\n",
    "\n",
    "plt.figure(figsize=(8,6))  # set a new figure\n",
    "x = range(len(launch_count))  # number of x-axis\n",
    "width = 1/1.5  # bar width\n",
    "\n",
    "launch_bar = plt.bar(x, launch_count, width, align='center') # bar plot all the values\n",
    "plt.xticks(range(2), ('First launch', 'NOT first launch'), fontsize=12)  # set xticks\n",
    "plt.title('Product B', fontsize=16)\n",
    "plt.ylim(0, 200000)  # set ylim to mark annotation later\n",
    "plt.ylabel('Launch Times', fontsize=14)\n",
    "\n",
    "autolabel(launch_bar)  # lable the current bar chart"
   ]
  },
  {
   "cell_type": "markdown",
   "metadata": {},
   "source": [
    "### Can you detect duplicate events? How?\n",
    "\n",
    "To detect duplicate events in the dataset, we can use unique() and value_counts() methods in pandas to show the frequency of event_id. If an event_id appeard more than one time, then it's a duplicate event."
   ]
  },
  {
   "cell_type": "code",
   "execution_count": 9,
   "metadata": {
    "collapsed": false
   },
   "outputs": [],
   "source": [
    "# To select the data need to be extracted\n",
    "duplicate_check_columns = [\n",
    "    'event_id',\n",
    "    'device_id'\n",
    "]\n",
    "\n",
    "# extract the events data\n",
    "duplicate_check_events = []\n",
    "\n",
    "with open(data_path, 'r') as f:\n",
    "    duplicate_check_objects = ijson.items(f, 'item')\n",
    "    for row in duplicate_check_objects:\n",
    "        selected_row = []\n",
    "        for item in duplicate_check_columns:\n",
    "            if item == \"device_id\":\n",
    "                selected_row.append(row['device'][item])\n",
    "            else:\n",
    "                selected_row.append(row[item])\n",
    "        duplicate_check_events.append(selected_row)"
   ]
  },
  {
   "cell_type": "code",
   "execution_count": 10,
   "metadata": {
    "collapsed": false
   },
   "outputs": [
    {
     "data": {
      "text/html": [
       "<div>\n",
       "<table border=\"1\" class=\"dataframe\">\n",
       "  <thead>\n",
       "    <tr style=\"text-align: right;\">\n",
       "      <th></th>\n",
       "      <th>event_id</th>\n",
       "      <th>device_id</th>\n",
       "    </tr>\n",
       "  </thead>\n",
       "  <tbody>\n",
       "    <tr>\n",
       "      <th>0</th>\n",
       "      <td>771ae5e3-c9d0-4950-b349-55ceeb35f7ee</td>\n",
       "      <td>498d4aec0a5a027cc43860ea066a475a33e4380e</td>\n",
       "    </tr>\n",
       "    <tr>\n",
       "      <th>1</th>\n",
       "      <td>11bd8781-0a87-44e6-b0e2-a0325674b413</td>\n",
       "      <td>498d4aec0a5a027cc43860ea066a475a33e4380e</td>\n",
       "    </tr>\n",
       "    <tr>\n",
       "      <th>2</th>\n",
       "      <td>13680a39-3c53-4ae7-8c0d-df5a6808b801</td>\n",
       "      <td>f5aa0fa7d0c353ea5910a4426cbdd78660404790</td>\n",
       "    </tr>\n",
       "    <tr>\n",
       "      <th>3</th>\n",
       "      <td>7c51ab3d-05c0-48ce-9035-a918f9457a16</td>\n",
       "      <td>45beebf6372d236330ea501930fbab244285da53</td>\n",
       "    </tr>\n",
       "    <tr>\n",
       "      <th>4</th>\n",
       "      <td>34f02316-c294-43b0-9b99-0a913b054539</td>\n",
       "      <td>cad557ce6377f92415590383efcd8edf310e8cc4</td>\n",
       "    </tr>\n",
       "  </tbody>\n",
       "</table>\n",
       "</div>"
      ],
      "text/plain": [
       "                               event_id  \\\n",
       "0  771ae5e3-c9d0-4950-b349-55ceeb35f7ee   \n",
       "1  11bd8781-0a87-44e6-b0e2-a0325674b413   \n",
       "2  13680a39-3c53-4ae7-8c0d-df5a6808b801   \n",
       "3  7c51ab3d-05c0-48ce-9035-a918f9457a16   \n",
       "4  34f02316-c294-43b0-9b99-0a913b054539   \n",
       "\n",
       "                                  device_id  \n",
       "0  498d4aec0a5a027cc43860ea066a475a33e4380e  \n",
       "1  498d4aec0a5a027cc43860ea066a475a33e4380e  \n",
       "2  f5aa0fa7d0c353ea5910a4426cbdd78660404790  \n",
       "3  45beebf6372d236330ea501930fbab244285da53  \n",
       "4  cad557ce6377f92415590383efcd8edf310e8cc4  "
      ]
     },
     "execution_count": 10,
     "metadata": {},
     "output_type": "execute_result"
    }
   ],
   "source": [
    "# To create a pandas dataframe from the duplicate_check_events list\n",
    "duplicate_check_df = pd.DataFrame(duplicate_check_events, columns=duplicate_check_columns)\n",
    "\n",
    "# To preview the dataframe by first 5 rows.\n",
    "duplicate_check_df.head()"
   ]
  },
  {
   "cell_type": "code",
   "execution_count": 11,
   "metadata": {
    "collapsed": false
   },
   "outputs": [
    {
     "name": "stdout",
     "output_type": "stream",
     "text": [
      "The total events number is 1515859, and the unique events number is 1512184, so in dataset 3675 events appeard more than once.\n"
     ]
    }
   ],
   "source": [
    "# To count the total_events_number, unique_events_number and duplicate_events_number\n",
    "total_events_number = len(duplicate_check_df)\n",
    "unique_events_number = len(duplicate_check_df['event_id'].unique())\n",
    "duplicate_events_number = total_events_number - unique_events_number\n",
    "\n",
    "print(\"The total events number is %d, and the unique events number is %d, so in dataset %d events appeard more than once.\" \n",
    "      % (total_events_number, unique_events_number, duplicate_events_number))"
   ]
  },
  {
   "cell_type": "code",
   "execution_count": 12,
   "metadata": {
    "collapsed": false
   },
   "outputs": [
    {
     "data": {
      "text/html": [
       "<div>\n",
       "<table border=\"1\" class=\"dataframe\">\n",
       "  <thead>\n",
       "    <tr style=\"text-align: right;\">\n",
       "      <th></th>\n",
       "      <th>event_id</th>\n",
       "      <th>frequency</th>\n",
       "    </tr>\n",
       "  </thead>\n",
       "  <tbody>\n",
       "    <tr>\n",
       "      <th>0</th>\n",
       "      <td>A94CD028-F4D8-4BAE-9583-497B66EF2DAE</td>\n",
       "      <td>78</td>\n",
       "    </tr>\n",
       "    <tr>\n",
       "      <th>1</th>\n",
       "      <td>8F32E867-525F-4663-A04D-9E94D99366EA</td>\n",
       "      <td>78</td>\n",
       "    </tr>\n",
       "    <tr>\n",
       "      <th>2</th>\n",
       "      <td>233E4AA0-B35E-487A-A709-FC9602440A62</td>\n",
       "      <td>78</td>\n",
       "    </tr>\n",
       "    <tr>\n",
       "      <th>3</th>\n",
       "      <td>536BB8B1-9204-4A48-9DEE-BC45CCF5DA56</td>\n",
       "      <td>78</td>\n",
       "    </tr>\n",
       "    <tr>\n",
       "      <th>4</th>\n",
       "      <td>82732033-1A45-48E3-87E4-F24CBABA747C</td>\n",
       "      <td>78</td>\n",
       "    </tr>\n",
       "    <tr>\n",
       "      <th>5</th>\n",
       "      <td>81C2A7C7-06AC-41B7-A36D-61E7DC445598</td>\n",
       "      <td>78</td>\n",
       "    </tr>\n",
       "    <tr>\n",
       "      <th>6</th>\n",
       "      <td>CAE84F6E-7C39-4CFC-A77F-B2AED8AFF73C</td>\n",
       "      <td>78</td>\n",
       "    </tr>\n",
       "    <tr>\n",
       "      <th>7</th>\n",
       "      <td>CA084D64-0DB5-40EF-A021-6849AF507A91</td>\n",
       "      <td>78</td>\n",
       "    </tr>\n",
       "    <tr>\n",
       "      <th>8</th>\n",
       "      <td>90F4EA71-8EED-4044-A961-2630B574952E</td>\n",
       "      <td>78</td>\n",
       "    </tr>\n",
       "    <tr>\n",
       "      <th>9</th>\n",
       "      <td>889F339C-C5D8-420A-9D02-F98F21E7C10B</td>\n",
       "      <td>78</td>\n",
       "    </tr>\n",
       "    <tr>\n",
       "      <th>10</th>\n",
       "      <td>54CFB31D-F70A-4693-8617-5C9E3B83BFC7</td>\n",
       "      <td>7</td>\n",
       "    </tr>\n",
       "    <tr>\n",
       "      <th>11</th>\n",
       "      <td>E73558A4-CD44-4E40-9FA1-687F0AEBCA1F</td>\n",
       "      <td>7</td>\n",
       "    </tr>\n",
       "    <tr>\n",
       "      <th>12</th>\n",
       "      <td>FACA851A-46FF-4E28-BEFF-2F830A85ADA6</td>\n",
       "      <td>6</td>\n",
       "    </tr>\n",
       "    <tr>\n",
       "      <th>13</th>\n",
       "      <td>4c78b3fd-8220-4b4d-9792-2dfe80c31505</td>\n",
       "      <td>6</td>\n",
       "    </tr>\n",
       "    <tr>\n",
       "      <th>14</th>\n",
       "      <td>8262d1b5-b7b6-4632-99f5-b3ef76d641a1</td>\n",
       "      <td>6</td>\n",
       "    </tr>\n",
       "    <tr>\n",
       "      <th>15</th>\n",
       "      <td>0555a7a3-096c-4ffc-a80e-8776800d6b2c</td>\n",
       "      <td>6</td>\n",
       "    </tr>\n",
       "    <tr>\n",
       "      <th>16</th>\n",
       "      <td>de9613c7-89a0-4abb-8a6d-e10bfc9b9578</td>\n",
       "      <td>6</td>\n",
       "    </tr>\n",
       "    <tr>\n",
       "      <th>17</th>\n",
       "      <td>e37e5078-1a09-4943-b55c-fa57a5b8f437</td>\n",
       "      <td>6</td>\n",
       "    </tr>\n",
       "    <tr>\n",
       "      <th>18</th>\n",
       "      <td>494A790D-65BC-41D6-AAF1-9CA3BEDA40E9</td>\n",
       "      <td>6</td>\n",
       "    </tr>\n",
       "    <tr>\n",
       "      <th>19</th>\n",
       "      <td>b0bbfa62-148a-45ae-89e6-6d051a4ed237</td>\n",
       "      <td>6</td>\n",
       "    </tr>\n",
       "    <tr>\n",
       "      <th>20</th>\n",
       "      <td>813cf7d6-5ace-4c85-8f41-060cecb63c9d</td>\n",
       "      <td>6</td>\n",
       "    </tr>\n",
       "    <tr>\n",
       "      <th>21</th>\n",
       "      <td>bfa2dd87-de69-475b-a001-2212b8cd4c98</td>\n",
       "      <td>6</td>\n",
       "    </tr>\n",
       "    <tr>\n",
       "      <th>22</th>\n",
       "      <td>1a9b24d6-137f-4937-a867-752637f97a21</td>\n",
       "      <td>6</td>\n",
       "    </tr>\n",
       "    <tr>\n",
       "      <th>23</th>\n",
       "      <td>3270f93e-5783-48c8-8e43-48aad3230158</td>\n",
       "      <td>6</td>\n",
       "    </tr>\n",
       "    <tr>\n",
       "      <th>24</th>\n",
       "      <td>2A5E251C-3B4C-4246-8F8F-551B9A12F851</td>\n",
       "      <td>6</td>\n",
       "    </tr>\n",
       "    <tr>\n",
       "      <th>25</th>\n",
       "      <td>db238a35-f6d4-4875-b016-9ebf08d0a58f</td>\n",
       "      <td>6</td>\n",
       "    </tr>\n",
       "    <tr>\n",
       "      <th>26</th>\n",
       "      <td>cee7cfc4-6112-45b5-8121-00c729192b8e</td>\n",
       "      <td>6</td>\n",
       "    </tr>\n",
       "    <tr>\n",
       "      <th>27</th>\n",
       "      <td>eaa27b47-f026-4133-ab4e-2e982aa0ee31</td>\n",
       "      <td>6</td>\n",
       "    </tr>\n",
       "    <tr>\n",
       "      <th>28</th>\n",
       "      <td>fa84ded7-89b7-4799-9530-e4093e5cbc9b</td>\n",
       "      <td>6</td>\n",
       "    </tr>\n",
       "    <tr>\n",
       "      <th>29</th>\n",
       "      <td>5de7eb45-7d04-45a6-857c-d0e4419ab4c3</td>\n",
       "      <td>6</td>\n",
       "    </tr>\n",
       "    <tr>\n",
       "      <th>...</th>\n",
       "      <td>...</td>\n",
       "      <td>...</td>\n",
       "    </tr>\n",
       "    <tr>\n",
       "      <th>2482</th>\n",
       "      <td>71B041FD-9872-41E3-8196-CE78143006BE</td>\n",
       "      <td>2</td>\n",
       "    </tr>\n",
       "    <tr>\n",
       "      <th>2483</th>\n",
       "      <td>57d6ad88-b1a7-44b7-bce2-648c51b7fc09</td>\n",
       "      <td>2</td>\n",
       "    </tr>\n",
       "    <tr>\n",
       "      <th>2484</th>\n",
       "      <td>7F3E4E7C-291D-4FF2-A9F1-8CE6E57A4592</td>\n",
       "      <td>2</td>\n",
       "    </tr>\n",
       "    <tr>\n",
       "      <th>2485</th>\n",
       "      <td>2F4E8E4B-3956-4959-89C4-E34C9CB730A4</td>\n",
       "      <td>2</td>\n",
       "    </tr>\n",
       "    <tr>\n",
       "      <th>2486</th>\n",
       "      <td>C0FBE564-9576-4F5A-AC82-C1F4C3C7CEA0</td>\n",
       "      <td>2</td>\n",
       "    </tr>\n",
       "    <tr>\n",
       "      <th>2487</th>\n",
       "      <td>c5b3345a-5e25-4300-a043-99cc0c4beb36</td>\n",
       "      <td>2</td>\n",
       "    </tr>\n",
       "    <tr>\n",
       "      <th>2488</th>\n",
       "      <td>388A6943-B90B-4F43-8D3A-03EF748937C3</td>\n",
       "      <td>2</td>\n",
       "    </tr>\n",
       "    <tr>\n",
       "      <th>2489</th>\n",
       "      <td>0B508C70-DC8C-475D-B549-3180E06399D8</td>\n",
       "      <td>2</td>\n",
       "    </tr>\n",
       "    <tr>\n",
       "      <th>2490</th>\n",
       "      <td>a0177e51-e9c3-4c1e-b8ba-22b52258dc39</td>\n",
       "      <td>2</td>\n",
       "    </tr>\n",
       "    <tr>\n",
       "      <th>2491</th>\n",
       "      <td>92902D65-3B6F-4C5C-9A95-652285D2891D</td>\n",
       "      <td>2</td>\n",
       "    </tr>\n",
       "    <tr>\n",
       "      <th>2492</th>\n",
       "      <td>78A7FC24-E1FB-40D8-A57F-897E044C391E</td>\n",
       "      <td>2</td>\n",
       "    </tr>\n",
       "    <tr>\n",
       "      <th>2493</th>\n",
       "      <td>E620C83B-DCFD-4BD1-A59A-77A1F7D3A334</td>\n",
       "      <td>2</td>\n",
       "    </tr>\n",
       "    <tr>\n",
       "      <th>2494</th>\n",
       "      <td>4057b9dd-57c1-4283-8e3e-8e61e985b668</td>\n",
       "      <td>2</td>\n",
       "    </tr>\n",
       "    <tr>\n",
       "      <th>2495</th>\n",
       "      <td>821DB42A-6CF4-4C09-BCE5-8F351DFEAAF6</td>\n",
       "      <td>2</td>\n",
       "    </tr>\n",
       "    <tr>\n",
       "      <th>2496</th>\n",
       "      <td>FF17BB2C-AB1A-478A-B88B-833E3ACCE058</td>\n",
       "      <td>2</td>\n",
       "    </tr>\n",
       "    <tr>\n",
       "      <th>2497</th>\n",
       "      <td>6242a645-20c5-4672-951e-acdfbde9fbf8</td>\n",
       "      <td>2</td>\n",
       "    </tr>\n",
       "    <tr>\n",
       "      <th>2498</th>\n",
       "      <td>c3ce7f5a-42b9-4c5a-a1b9-6cf5eb2ab858</td>\n",
       "      <td>2</td>\n",
       "    </tr>\n",
       "    <tr>\n",
       "      <th>2499</th>\n",
       "      <td>9775586F-A59E-4520-8008-D935A998CA46</td>\n",
       "      <td>2</td>\n",
       "    </tr>\n",
       "    <tr>\n",
       "      <th>2500</th>\n",
       "      <td>69ADC781-76F4-4F0A-A4E8-060C3426FB37</td>\n",
       "      <td>2</td>\n",
       "    </tr>\n",
       "    <tr>\n",
       "      <th>2501</th>\n",
       "      <td>632f24e1-4b5f-4b61-9097-c2be991b3cb8</td>\n",
       "      <td>2</td>\n",
       "    </tr>\n",
       "    <tr>\n",
       "      <th>2502</th>\n",
       "      <td>6696D999-B66A-45E3-9B03-F52DD4269CCA</td>\n",
       "      <td>2</td>\n",
       "    </tr>\n",
       "    <tr>\n",
       "      <th>2503</th>\n",
       "      <td>928BCD04-7357-48E0-A75E-3C6ADB25B1DB</td>\n",
       "      <td>2</td>\n",
       "    </tr>\n",
       "    <tr>\n",
       "      <th>2504</th>\n",
       "      <td>3892c9b8-7174-4bd3-ba21-a7b4b38aec80</td>\n",
       "      <td>2</td>\n",
       "    </tr>\n",
       "    <tr>\n",
       "      <th>2505</th>\n",
       "      <td>7412064e-6629-4bf6-9933-ea86306b8609</td>\n",
       "      <td>2</td>\n",
       "    </tr>\n",
       "    <tr>\n",
       "      <th>2506</th>\n",
       "      <td>daf76252-6430-49a6-b1d9-2b3899e2d8f6</td>\n",
       "      <td>2</td>\n",
       "    </tr>\n",
       "    <tr>\n",
       "      <th>2507</th>\n",
       "      <td>e33bbaf3-e54c-4e8b-8172-0e4c1346aff1</td>\n",
       "      <td>2</td>\n",
       "    </tr>\n",
       "    <tr>\n",
       "      <th>2508</th>\n",
       "      <td>31182a0b-9302-432f-af8e-42b894eae3e3</td>\n",
       "      <td>2</td>\n",
       "    </tr>\n",
       "    <tr>\n",
       "      <th>2509</th>\n",
       "      <td>25DD0EBE-448A-4AF1-8F3E-7F974C69DB8A</td>\n",
       "      <td>2</td>\n",
       "    </tr>\n",
       "    <tr>\n",
       "      <th>2510</th>\n",
       "      <td>F90E3D70-12EF-4FC4-A212-53FA41AE9273</td>\n",
       "      <td>2</td>\n",
       "    </tr>\n",
       "    <tr>\n",
       "      <th>2511</th>\n",
       "      <td>6C86772A-0BBF-4746-A7A7-D8F473519A89</td>\n",
       "      <td>2</td>\n",
       "    </tr>\n",
       "  </tbody>\n",
       "</table>\n",
       "<p>2512 rows × 2 columns</p>\n",
       "</div>"
      ],
      "text/plain": [
       "                                  event_id  frequency\n",
       "0     A94CD028-F4D8-4BAE-9583-497B66EF2DAE         78\n",
       "1     8F32E867-525F-4663-A04D-9E94D99366EA         78\n",
       "2     233E4AA0-B35E-487A-A709-FC9602440A62         78\n",
       "3     536BB8B1-9204-4A48-9DEE-BC45CCF5DA56         78\n",
       "4     82732033-1A45-48E3-87E4-F24CBABA747C         78\n",
       "5     81C2A7C7-06AC-41B7-A36D-61E7DC445598         78\n",
       "6     CAE84F6E-7C39-4CFC-A77F-B2AED8AFF73C         78\n",
       "7     CA084D64-0DB5-40EF-A021-6849AF507A91         78\n",
       "8     90F4EA71-8EED-4044-A961-2630B574952E         78\n",
       "9     889F339C-C5D8-420A-9D02-F98F21E7C10B         78\n",
       "10    54CFB31D-F70A-4693-8617-5C9E3B83BFC7          7\n",
       "11    E73558A4-CD44-4E40-9FA1-687F0AEBCA1F          7\n",
       "12    FACA851A-46FF-4E28-BEFF-2F830A85ADA6          6\n",
       "13    4c78b3fd-8220-4b4d-9792-2dfe80c31505          6\n",
       "14    8262d1b5-b7b6-4632-99f5-b3ef76d641a1          6\n",
       "15    0555a7a3-096c-4ffc-a80e-8776800d6b2c          6\n",
       "16    de9613c7-89a0-4abb-8a6d-e10bfc9b9578          6\n",
       "17    e37e5078-1a09-4943-b55c-fa57a5b8f437          6\n",
       "18    494A790D-65BC-41D6-AAF1-9CA3BEDA40E9          6\n",
       "19    b0bbfa62-148a-45ae-89e6-6d051a4ed237          6\n",
       "20    813cf7d6-5ace-4c85-8f41-060cecb63c9d          6\n",
       "21    bfa2dd87-de69-475b-a001-2212b8cd4c98          6\n",
       "22    1a9b24d6-137f-4937-a867-752637f97a21          6\n",
       "23    3270f93e-5783-48c8-8e43-48aad3230158          6\n",
       "24    2A5E251C-3B4C-4246-8F8F-551B9A12F851          6\n",
       "25    db238a35-f6d4-4875-b016-9ebf08d0a58f          6\n",
       "26    cee7cfc4-6112-45b5-8121-00c729192b8e          6\n",
       "27    eaa27b47-f026-4133-ab4e-2e982aa0ee31          6\n",
       "28    fa84ded7-89b7-4799-9530-e4093e5cbc9b          6\n",
       "29    5de7eb45-7d04-45a6-857c-d0e4419ab4c3          6\n",
       "...                                    ...        ...\n",
       "2482  71B041FD-9872-41E3-8196-CE78143006BE          2\n",
       "2483  57d6ad88-b1a7-44b7-bce2-648c51b7fc09          2\n",
       "2484  7F3E4E7C-291D-4FF2-A9F1-8CE6E57A4592          2\n",
       "2485  2F4E8E4B-3956-4959-89C4-E34C9CB730A4          2\n",
       "2486  C0FBE564-9576-4F5A-AC82-C1F4C3C7CEA0          2\n",
       "2487  c5b3345a-5e25-4300-a043-99cc0c4beb36          2\n",
       "2488  388A6943-B90B-4F43-8D3A-03EF748937C3          2\n",
       "2489  0B508C70-DC8C-475D-B549-3180E06399D8          2\n",
       "2490  a0177e51-e9c3-4c1e-b8ba-22b52258dc39          2\n",
       "2491  92902D65-3B6F-4C5C-9A95-652285D2891D          2\n",
       "2492  78A7FC24-E1FB-40D8-A57F-897E044C391E          2\n",
       "2493  E620C83B-DCFD-4BD1-A59A-77A1F7D3A334          2\n",
       "2494  4057b9dd-57c1-4283-8e3e-8e61e985b668          2\n",
       "2495  821DB42A-6CF4-4C09-BCE5-8F351DFEAAF6          2\n",
       "2496  FF17BB2C-AB1A-478A-B88B-833E3ACCE058          2\n",
       "2497  6242a645-20c5-4672-951e-acdfbde9fbf8          2\n",
       "2498  c3ce7f5a-42b9-4c5a-a1b9-6cf5eb2ab858          2\n",
       "2499  9775586F-A59E-4520-8008-D935A998CA46          2\n",
       "2500  69ADC781-76F4-4F0A-A4E8-060C3426FB37          2\n",
       "2501  632f24e1-4b5f-4b61-9097-c2be991b3cb8          2\n",
       "2502  6696D999-B66A-45E3-9B03-F52DD4269CCA          2\n",
       "2503  928BCD04-7357-48E0-A75E-3C6ADB25B1DB          2\n",
       "2504  3892c9b8-7174-4bd3-ba21-a7b4b38aec80          2\n",
       "2505  7412064e-6629-4bf6-9933-ea86306b8609          2\n",
       "2506  daf76252-6430-49a6-b1d9-2b3899e2d8f6          2\n",
       "2507  e33bbaf3-e54c-4e8b-8172-0e4c1346aff1          2\n",
       "2508  31182a0b-9302-432f-af8e-42b894eae3e3          2\n",
       "2509  25DD0EBE-448A-4AF1-8F3E-7F974C69DB8A          2\n",
       "2510  F90E3D70-12EF-4FC4-A212-53FA41AE9273          2\n",
       "2511  6C86772A-0BBF-4746-A7A7-D8F473519A89          2\n",
       "\n",
       "[2512 rows x 2 columns]"
      ]
     },
     "execution_count": 12,
     "metadata": {},
     "output_type": "execute_result"
    }
   ],
   "source": [
    "# To create another dataframe to list duplicate events\n",
    "\n",
    "duplicate_events_df = pd.DataFrame(duplicate_check_df['event_id'].value_counts()) # count values for events\n",
    "duplicate_events_df.reset_index(inplace=True)  # abstratc the event_id to be a column\n",
    "duplicate_events_df.columns = ['event_id', 'frequency']  # rename columns with more clear names\n",
    "duplicate_events_df[duplicate_events_df['frequency'] > 1] # filter the duplicate events and show the results"
   ]
  },
  {
   "cell_type": "code",
   "execution_count": 13,
   "metadata": {
    "collapsed": false
   },
   "outputs": [
    {
     "name": "stdout",
     "output_type": "stream",
     "text": [
      "2512 events have been duplicated in this dataset.\n"
     ]
    }
   ],
   "source": [
    "print(\"%d events have been duplicated in this dataset.\" % 2512)"
   ]
  },
  {
   "cell_type": "markdown",
   "metadata": {},
   "source": [
    "### Do you observe anything weird in timestamps?\n",
    "\n",
    "There are 3 time related variables in the dataset. Through a preprocessing of first 200,000 objects in dataset, I found that the 'timestamp' variables are weird. Lots of 'timestamp' are missed after 180,000 - 190,000 objects. For left 'timestamp', some are much later than time.create_timestamp (days), some are even earlier than time.create_timestamp. So the 'timestamp' is not a reliable variable for analysis. I just want to find out the distribution of these 'timestamp' and the weird values from them."
   ]
  },
  {
   "cell_type": "code",
   "execution_count": 14,
   "metadata": {
    "collapsed": false
   },
   "outputs": [],
   "source": [
    "# To select the data need to be extracted\n",
    "time_columns = [\n",
    "    'event_id',\n",
    "    'source',\n",
    "    'type',\n",
    "    'create_time',\n",
    "    'send_time',\n",
    "    'timestamp',\n",
    "    'device_id'\n",
    "]\n",
    "\n",
    "# extract the events data\n",
    "times_events = []\n",
    "\n",
    "with open(data_path, 'r') as f:\n",
    "    time_objects = ijson.items(f, 'item')\n",
    "    for row in time_objects:\n",
    "        selected_time_row = []\n",
    "        for item in time_columns:\n",
    "            if item == \"device_id\":\n",
    "                selected_time_row.append(row['device'][item])\n",
    "            elif item == \"create_time\":\n",
    "                selected_time_row.append(row['time']['create_timestamp'])\n",
    "            elif item == \"send_time\":\n",
    "                selected_time_row.append(row['time']['send_timestamp'])\n",
    "            elif item == \"timestamp\":\n",
    "                if item in row:\n",
    "                    selected_time_row.append(row[item])\n",
    "                else:\n",
    "                    selected_time_row.append(\"\")\n",
    "            else:\n",
    "                selected_time_row.append(row[item])\n",
    "        times_events.append(selected_time_row)"
   ]
  },
  {
   "cell_type": "code",
   "execution_count": 15,
   "metadata": {
    "collapsed": false
   },
   "outputs": [
    {
     "data": {
      "text/html": [
       "<div>\n",
       "<table border=\"1\" class=\"dataframe\">\n",
       "  <thead>\n",
       "    <tr style=\"text-align: right;\">\n",
       "      <th></th>\n",
       "      <th>event_id</th>\n",
       "      <th>source</th>\n",
       "      <th>type</th>\n",
       "      <th>create_time</th>\n",
       "      <th>send_time</th>\n",
       "      <th>timestamp</th>\n",
       "      <th>device_id</th>\n",
       "    </tr>\n",
       "  </thead>\n",
       "  <tbody>\n",
       "    <tr>\n",
       "      <th>0</th>\n",
       "      <td>771ae5e3-c9d0-4950-b349-55ceeb35f7ee</td>\n",
       "      <td>product-a</td>\n",
       "      <td>user_interaction</td>\n",
       "      <td>1433661911699</td>\n",
       "      <td>1433661911703</td>\n",
       "      <td>1433661896414</td>\n",
       "      <td>498d4aec0a5a027cc43860ea066a475a33e4380e</td>\n",
       "    </tr>\n",
       "    <tr>\n",
       "      <th>1</th>\n",
       "      <td>11bd8781-0a87-44e6-b0e2-a0325674b413</td>\n",
       "      <td>product-a</td>\n",
       "      <td>user_interaction</td>\n",
       "      <td>1433661917327</td>\n",
       "      <td>1433661917329</td>\n",
       "      <td>1433661901800</td>\n",
       "      <td>498d4aec0a5a027cc43860ea066a475a33e4380e</td>\n",
       "    </tr>\n",
       "    <tr>\n",
       "      <th>2</th>\n",
       "      <td>13680a39-3c53-4ae7-8c0d-df5a6808b801</td>\n",
       "      <td>product-a</td>\n",
       "      <td>metric</td>\n",
       "      <td>1433663295606</td>\n",
       "      <td>1433663295843</td>\n",
       "      <td>1433663296790</td>\n",
       "      <td>f5aa0fa7d0c353ea5910a4426cbdd78660404790</td>\n",
       "    </tr>\n",
       "    <tr>\n",
       "      <th>3</th>\n",
       "      <td>7c51ab3d-05c0-48ce-9035-a918f9457a16</td>\n",
       "      <td>product-a</td>\n",
       "      <td>launch</td>\n",
       "      <td>1433664323610</td>\n",
       "      <td>1433664323627</td>\n",
       "      <td>1433664318952</td>\n",
       "      <td>45beebf6372d236330ea501930fbab244285da53</td>\n",
       "    </tr>\n",
       "    <tr>\n",
       "      <th>4</th>\n",
       "      <td>34f02316-c294-43b0-9b99-0a913b054539</td>\n",
       "      <td>product-a</td>\n",
       "      <td>launch</td>\n",
       "      <td>1433661170041</td>\n",
       "      <td>1433661170085</td>\n",
       "      <td>1433664527787</td>\n",
       "      <td>cad557ce6377f92415590383efcd8edf310e8cc4</td>\n",
       "    </tr>\n",
       "  </tbody>\n",
       "</table>\n",
       "</div>"
      ],
      "text/plain": [
       "                               event_id     source              type  \\\n",
       "0  771ae5e3-c9d0-4950-b349-55ceeb35f7ee  product-a  user_interaction   \n",
       "1  11bd8781-0a87-44e6-b0e2-a0325674b413  product-a  user_interaction   \n",
       "2  13680a39-3c53-4ae7-8c0d-df5a6808b801  product-a            metric   \n",
       "3  7c51ab3d-05c0-48ce-9035-a918f9457a16  product-a            launch   \n",
       "4  34f02316-c294-43b0-9b99-0a913b054539  product-a            launch   \n",
       "\n",
       "     create_time      send_time      timestamp  \\\n",
       "0  1433661911699  1433661911703  1433661896414   \n",
       "1  1433661917327  1433661917329  1433661901800   \n",
       "2  1433663295606  1433663295843  1433663296790   \n",
       "3  1433664323610  1433664323627  1433664318952   \n",
       "4  1433661170041  1433661170085  1433664527787   \n",
       "\n",
       "                                  device_id  \n",
       "0  498d4aec0a5a027cc43860ea066a475a33e4380e  \n",
       "1  498d4aec0a5a027cc43860ea066a475a33e4380e  \n",
       "2  f5aa0fa7d0c353ea5910a4426cbdd78660404790  \n",
       "3  45beebf6372d236330ea501930fbab244285da53  \n",
       "4  cad557ce6377f92415590383efcd8edf310e8cc4  "
      ]
     },
     "execution_count": 15,
     "metadata": {},
     "output_type": "execute_result"
    }
   ],
   "source": [
    "# To create a pandas dataframe from the events list\n",
    "timestamps_df = pd.DataFrame(times_events, columns=time_columns)\n",
    "\n",
    "# To create a new dataframe for the objects that containing 'timestamp' variables\n",
    "timestamp_left_df = timestamps_df[timestamps_df['timestamp'] != \"\"]\n",
    "\n",
    "# To preview the dataframe by first 5 rows.\n",
    "timestamp_left_df.head()"
   ]
  },
  {
   "cell_type": "code",
   "execution_count": 16,
   "metadata": {
    "collapsed": false
   },
   "outputs": [
    {
     "name": "stdout",
     "output_type": "stream",
     "text": [
      "Only 184731 objects in the dataset have 'timestamp'. \n"
     ]
    }
   ],
   "source": [
    "# To count how many objects have 'timestamp'\n",
    "\n",
    "print(\"Only %d objects in the dataset have 'timestamp'. \" % len(timestamp_left_df))"
   ]
  },
  {
   "cell_type": "code",
   "execution_count": 17,
   "metadata": {
    "collapsed": false
   },
   "outputs": [
    {
     "name": "stderr",
     "output_type": "stream",
     "text": [
      "d:\\python35\\lib\\site-packages\\ipykernel\\__main__.py:8: SettingWithCopyWarning: \n",
      "A value is trying to be set on a copy of a slice from a DataFrame.\n",
      "Try using .loc[row_indexer,col_indexer] = value instead\n",
      "\n",
      "See the caveats in the documentation: http://pandas.pydata.org/pandas-docs/stable/indexing.html#indexing-view-versus-copy\n",
      "d:\\python35\\lib\\site-packages\\ipykernel\\__main__.py:9: SettingWithCopyWarning: \n",
      "A value is trying to be set on a copy of a slice from a DataFrame.\n",
      "Try using .loc[row_indexer,col_indexer] = value instead\n",
      "\n",
      "See the caveats in the documentation: http://pandas.pydata.org/pandas-docs/stable/indexing.html#indexing-view-versus-copy\n",
      "d:\\python35\\lib\\site-packages\\ipykernel\\__main__.py:10: SettingWithCopyWarning: \n",
      "A value is trying to be set on a copy of a slice from a DataFrame.\n",
      "Try using .loc[row_indexer,col_indexer] = value instead\n",
      "\n",
      "See the caveats in the documentation: http://pandas.pydata.org/pandas-docs/stable/indexing.html#indexing-view-versus-copy\n"
     ]
    },
    {
     "data": {
      "text/html": [
       "<div>\n",
       "<table border=\"1\" class=\"dataframe\">\n",
       "  <thead>\n",
       "    <tr style=\"text-align: right;\">\n",
       "      <th></th>\n",
       "      <th>event_id</th>\n",
       "      <th>source</th>\n",
       "      <th>type</th>\n",
       "      <th>create_time</th>\n",
       "      <th>send_time</th>\n",
       "      <th>timestamp</th>\n",
       "      <th>device_id</th>\n",
       "    </tr>\n",
       "  </thead>\n",
       "  <tbody>\n",
       "    <tr>\n",
       "      <th>0</th>\n",
       "      <td>771ae5e3-c9d0-4950-b349-55ceeb35f7ee</td>\n",
       "      <td>product-a</td>\n",
       "      <td>user_interaction</td>\n",
       "      <td>2015-06-07 10:25:11.699</td>\n",
       "      <td>2015-06-07 10:25:11.703</td>\n",
       "      <td>2015-06-07 10:24:56.414</td>\n",
       "      <td>498d4aec0a5a027cc43860ea066a475a33e4380e</td>\n",
       "    </tr>\n",
       "    <tr>\n",
       "      <th>1</th>\n",
       "      <td>11bd8781-0a87-44e6-b0e2-a0325674b413</td>\n",
       "      <td>product-a</td>\n",
       "      <td>user_interaction</td>\n",
       "      <td>2015-06-07 10:25:17.327</td>\n",
       "      <td>2015-06-07 10:25:17.329</td>\n",
       "      <td>2015-06-07 10:25:01.800</td>\n",
       "      <td>498d4aec0a5a027cc43860ea066a475a33e4380e</td>\n",
       "    </tr>\n",
       "    <tr>\n",
       "      <th>2</th>\n",
       "      <td>13680a39-3c53-4ae7-8c0d-df5a6808b801</td>\n",
       "      <td>product-a</td>\n",
       "      <td>metric</td>\n",
       "      <td>2015-06-07 10:48:15.606</td>\n",
       "      <td>2015-06-07 10:48:15.843</td>\n",
       "      <td>2015-06-07 10:48:16.790</td>\n",
       "      <td>f5aa0fa7d0c353ea5910a4426cbdd78660404790</td>\n",
       "    </tr>\n",
       "    <tr>\n",
       "      <th>3</th>\n",
       "      <td>7c51ab3d-05c0-48ce-9035-a918f9457a16</td>\n",
       "      <td>product-a</td>\n",
       "      <td>launch</td>\n",
       "      <td>2015-06-07 11:05:23.610</td>\n",
       "      <td>2015-06-07 11:05:23.627</td>\n",
       "      <td>2015-06-07 11:05:18.952</td>\n",
       "      <td>45beebf6372d236330ea501930fbab244285da53</td>\n",
       "    </tr>\n",
       "    <tr>\n",
       "      <th>4</th>\n",
       "      <td>34f02316-c294-43b0-9b99-0a913b054539</td>\n",
       "      <td>product-a</td>\n",
       "      <td>launch</td>\n",
       "      <td>2015-06-07 10:12:50.041</td>\n",
       "      <td>2015-06-07 10:12:50.085</td>\n",
       "      <td>2015-06-07 11:08:47.787</td>\n",
       "      <td>cad557ce6377f92415590383efcd8edf310e8cc4</td>\n",
       "    </tr>\n",
       "  </tbody>\n",
       "</table>\n",
       "</div>"
      ],
      "text/plain": [
       "                               event_id     source              type  \\\n",
       "0  771ae5e3-c9d0-4950-b349-55ceeb35f7ee  product-a  user_interaction   \n",
       "1  11bd8781-0a87-44e6-b0e2-a0325674b413  product-a  user_interaction   \n",
       "2  13680a39-3c53-4ae7-8c0d-df5a6808b801  product-a            metric   \n",
       "3  7c51ab3d-05c0-48ce-9035-a918f9457a16  product-a            launch   \n",
       "4  34f02316-c294-43b0-9b99-0a913b054539  product-a            launch   \n",
       "\n",
       "              create_time               send_time               timestamp  \\\n",
       "0 2015-06-07 10:25:11.699 2015-06-07 10:25:11.703 2015-06-07 10:24:56.414   \n",
       "1 2015-06-07 10:25:17.327 2015-06-07 10:25:17.329 2015-06-07 10:25:01.800   \n",
       "2 2015-06-07 10:48:15.606 2015-06-07 10:48:15.843 2015-06-07 10:48:16.790   \n",
       "3 2015-06-07 11:05:23.610 2015-06-07 11:05:23.627 2015-06-07 11:05:18.952   \n",
       "4 2015-06-07 10:12:50.041 2015-06-07 10:12:50.085 2015-06-07 11:08:47.787   \n",
       "\n",
       "                                  device_id  \n",
       "0  498d4aec0a5a027cc43860ea066a475a33e4380e  \n",
       "1  498d4aec0a5a027cc43860ea066a475a33e4380e  \n",
       "2  f5aa0fa7d0c353ea5910a4426cbdd78660404790  \n",
       "3  45beebf6372d236330ea501930fbab244285da53  \n",
       "4  cad557ce6377f92415590383efcd8edf310e8cc4  "
      ]
     },
     "execution_count": 17,
     "metadata": {},
     "output_type": "execute_result"
    }
   ],
   "source": [
    "# To convert the timestamp format to python datetime format\n",
    "\n",
    "def time_transfer(timestamp):\n",
    "    # convert a timestamp to datetime with milliseconds\n",
    "    return datetime.datetime.fromtimestamp(int(timestamp)/1000)\n",
    "\n",
    "# covert 3 time columns in dataframe\n",
    "timestamp_left_df['create_time'] = timestamp_left_df['create_time'].apply(time_transfer)\n",
    "timestamp_left_df['send_time'] = timestamp_left_df['send_time'].apply(time_transfer)\n",
    "timestamp_left_df['timestamp'] = timestamp_left_df['timestamp'].apply(time_transfer)\n",
    "\n",
    "# To preview the new dataframe by first 5 rows\n",
    "timestamp_left_df.head()"
   ]
  },
  {
   "cell_type": "code",
   "execution_count": 18,
   "metadata": {
    "collapsed": false
   },
   "outputs": [
    {
     "name": "stderr",
     "output_type": "stream",
     "text": [
      "d:\\python35\\lib\\site-packages\\ipykernel\\__main__.py:3: SettingWithCopyWarning: \n",
      "A value is trying to be set on a copy of a slice from a DataFrame.\n",
      "Try using .loc[row_indexer,col_indexer] = value instead\n",
      "\n",
      "See the caveats in the documentation: http://pandas.pydata.org/pandas-docs/stable/indexing.html#indexing-view-versus-copy\n",
      "  app.launch_new_instance()\n"
     ]
    },
    {
     "data": {
      "text/html": [
       "<div>\n",
       "<table border=\"1\" class=\"dataframe\">\n",
       "  <thead>\n",
       "    <tr style=\"text-align: right;\">\n",
       "      <th></th>\n",
       "      <th>event_id</th>\n",
       "      <th>source</th>\n",
       "      <th>type</th>\n",
       "      <th>create_time</th>\n",
       "      <th>send_time</th>\n",
       "      <th>timestamp</th>\n",
       "      <th>device_id</th>\n",
       "      <th>time_delta_seconds</th>\n",
       "    </tr>\n",
       "  </thead>\n",
       "  <tbody>\n",
       "    <tr>\n",
       "      <th>0</th>\n",
       "      <td>771ae5e3-c9d0-4950-b349-55ceeb35f7ee</td>\n",
       "      <td>product-a</td>\n",
       "      <td>user_interaction</td>\n",
       "      <td>2015-06-07 10:25:11.699</td>\n",
       "      <td>2015-06-07 10:25:11.703</td>\n",
       "      <td>2015-06-07 10:24:56.414</td>\n",
       "      <td>498d4aec0a5a027cc43860ea066a475a33e4380e</td>\n",
       "      <td>15.285</td>\n",
       "    </tr>\n",
       "    <tr>\n",
       "      <th>1</th>\n",
       "      <td>11bd8781-0a87-44e6-b0e2-a0325674b413</td>\n",
       "      <td>product-a</td>\n",
       "      <td>user_interaction</td>\n",
       "      <td>2015-06-07 10:25:17.327</td>\n",
       "      <td>2015-06-07 10:25:17.329</td>\n",
       "      <td>2015-06-07 10:25:01.800</td>\n",
       "      <td>498d4aec0a5a027cc43860ea066a475a33e4380e</td>\n",
       "      <td>15.527</td>\n",
       "    </tr>\n",
       "    <tr>\n",
       "      <th>2</th>\n",
       "      <td>13680a39-3c53-4ae7-8c0d-df5a6808b801</td>\n",
       "      <td>product-a</td>\n",
       "      <td>metric</td>\n",
       "      <td>2015-06-07 10:48:15.606</td>\n",
       "      <td>2015-06-07 10:48:15.843</td>\n",
       "      <td>2015-06-07 10:48:16.790</td>\n",
       "      <td>f5aa0fa7d0c353ea5910a4426cbdd78660404790</td>\n",
       "      <td>-1.184</td>\n",
       "    </tr>\n",
       "    <tr>\n",
       "      <th>3</th>\n",
       "      <td>7c51ab3d-05c0-48ce-9035-a918f9457a16</td>\n",
       "      <td>product-a</td>\n",
       "      <td>launch</td>\n",
       "      <td>2015-06-07 11:05:23.610</td>\n",
       "      <td>2015-06-07 11:05:23.627</td>\n",
       "      <td>2015-06-07 11:05:18.952</td>\n",
       "      <td>45beebf6372d236330ea501930fbab244285da53</td>\n",
       "      <td>4.658</td>\n",
       "    </tr>\n",
       "    <tr>\n",
       "      <th>4</th>\n",
       "      <td>34f02316-c294-43b0-9b99-0a913b054539</td>\n",
       "      <td>product-a</td>\n",
       "      <td>launch</td>\n",
       "      <td>2015-06-07 10:12:50.041</td>\n",
       "      <td>2015-06-07 10:12:50.085</td>\n",
       "      <td>2015-06-07 11:08:47.787</td>\n",
       "      <td>cad557ce6377f92415590383efcd8edf310e8cc4</td>\n",
       "      <td>-3357.746</td>\n",
       "    </tr>\n",
       "  </tbody>\n",
       "</table>\n",
       "</div>"
      ],
      "text/plain": [
       "                               event_id     source              type  \\\n",
       "0  771ae5e3-c9d0-4950-b349-55ceeb35f7ee  product-a  user_interaction   \n",
       "1  11bd8781-0a87-44e6-b0e2-a0325674b413  product-a  user_interaction   \n",
       "2  13680a39-3c53-4ae7-8c0d-df5a6808b801  product-a            metric   \n",
       "3  7c51ab3d-05c0-48ce-9035-a918f9457a16  product-a            launch   \n",
       "4  34f02316-c294-43b0-9b99-0a913b054539  product-a            launch   \n",
       "\n",
       "              create_time               send_time               timestamp  \\\n",
       "0 2015-06-07 10:25:11.699 2015-06-07 10:25:11.703 2015-06-07 10:24:56.414   \n",
       "1 2015-06-07 10:25:17.327 2015-06-07 10:25:17.329 2015-06-07 10:25:01.800   \n",
       "2 2015-06-07 10:48:15.606 2015-06-07 10:48:15.843 2015-06-07 10:48:16.790   \n",
       "3 2015-06-07 11:05:23.610 2015-06-07 11:05:23.627 2015-06-07 11:05:18.952   \n",
       "4 2015-06-07 10:12:50.041 2015-06-07 10:12:50.085 2015-06-07 11:08:47.787   \n",
       "\n",
       "                                  device_id  time_delta_seconds  \n",
       "0  498d4aec0a5a027cc43860ea066a475a33e4380e              15.285  \n",
       "1  498d4aec0a5a027cc43860ea066a475a33e4380e              15.527  \n",
       "2  f5aa0fa7d0c353ea5910a4426cbdd78660404790              -1.184  \n",
       "3  45beebf6372d236330ea501930fbab244285da53               4.658  \n",
       "4  cad557ce6377f92415590383efcd8edf310e8cc4           -3357.746  "
      ]
     },
     "execution_count": 18,
     "metadata": {},
     "output_type": "execute_result"
    }
   ],
   "source": [
    "# To calculate the differences value between 'create_timestamp' and 'timestamp',\n",
    "# then convert them to seconds format\n",
    "timestamp_left_df['time_delta_seconds'] = (timestamp_left_df['create_time'] - timestamp_left_df['timestamp']) / np.timedelta64(1, 's')\n",
    "\n",
    "# To preview the new dataframe by first 5 rows\n",
    "timestamp_left_df.head()"
   ]
  },
  {
   "cell_type": "code",
   "execution_count": 19,
   "metadata": {
    "collapsed": false
   },
   "outputs": [
    {
     "data": {
      "image/png": "[encoded data removed]",
      "text/plain": [
       "<matplotlib.figure.Figure at 0x26e6f0bd6d8>"
      ]
     },
     "metadata": {},
     "output_type": "display_data"
    }
   ],
   "source": [
    "# To plot the differences value between 'create_timestamp' and 'timestamp' with matplotlib\n",
    "\n",
    "plt.figure(figsize=(18,6))  # set a new figure\n",
    "plt.plot(timestamp_left_df['time_delta_seconds']) # plot all the differences values\n",
    "plt.xlabel('Events', fontsize=14)\n",
    "plt.ylabel('Seconds', fontsize=14)\n",
    "plt.ylim(-30000000, 30000000)\n",
    "\n",
    "plt.show()"
   ]
  },
  {
   "cell_type": "code",
   "execution_count": 20,
   "metadata": {
    "collapsed": false
   },
   "outputs": [
    {
     "name": "stdout",
     "output_type": "stream",
     "text": [
      "There are 3316 objects in which the 'timestamp' are 1 day later than events were created.\n"
     ]
    }
   ],
   "source": [
    "# To count the number of objects in which 'timestamp' earlier than 'create_time'\n",
    "\n",
    "day_later_timestamps = len(timestamp_left_df[timestamp_left_df['time_delta_seconds'] < -86400])\n",
    "print(\"There are %d objects in which the 'timestamp' are 1 day later than events were created.\" % day_later_timestamps)"
   ]
  },
  {
   "cell_type": "code",
   "execution_count": 21,
   "metadata": {
    "collapsed": false
   },
   "outputs": [
    {
     "name": "stdout",
     "output_type": "stream",
     "text": [
      "There are 54.74% objects in which the 'timestamp' are even earlier than events were created.\n"
     ]
    }
   ],
   "source": [
    "# To count the number of objects in which 'timestamp' 1 day later than 'create_time' \n",
    "\n",
    "earlier_timestamps = len(timestamp_left_df[timestamp_left_df['time_delta_seconds'] > 0])\n",
    "ratio = earlier_timestamps / len(timestamp_left_df) *100\n",
    "print(\"There are %.2f%% objects in which the 'timestamp' are even earlier than events were created.\" % ratio)"
   ]
  },
  {
   "cell_type": "markdown",
   "metadata": {},
   "source": [
    "### What kind of statistics do you think are interesting? How could you visualize this?\n",
    "\n",
    "I'd like to know where these events happend based on longitude and latitude information. Especially, I'd like to know where the purchase happened. It may help to evaluate the effect of marketing at different places, and to find the potetial places for further marketing.\n",
    "\n",
    "To do this, I will extract all purchase events data, and visalize them on the map through longitude and latitude information. "
   ]
  },
  {
   "cell_type": "code",
   "execution_count": null,
   "metadata": {
    "collapsed": false
   },
   "outputs": [],
   "source": [
    "geo_columns = [\n",
    "    'event_id',\n",
    "    'source',\n",
    "    'type',\n",
    "    'country',\n",
    "    'longitude',\n",
    "    'latitude',\n",
    "    'device_id'\n",
    "]\n",
    "\n",
    "geo_events = []\n",
    "with open(data_path, 'r') as f:\n",
    "    geo_objects = ijson.items(f, 'item')\n",
    "    for row in geo_objects:\n",
    "        selected_geo_row = []\n",
    "        for item in geo_columns:\n",
    "            if item == \"device_id\":\n",
    "                selected_geo_row.append(row['device'][item])\n",
    "            elif item == \"country\":\n",
    "                try:\n",
    "                    selected_geo_row.append(row['sender_info']['geo'][item])\n",
    "                except KeyError:\n",
    "                    selected_geo_row.append(\"\")\n",
    "                    continue\n",
    "            elif item == \"longitude\":\n",
    "                try:\n",
    "                    selected_geo_row.append(row['sender_info']['geo']['ll'][0])\n",
    "                except KeyError:\n",
    "                    selected_geo_row.append(\"\")\n",
    "                    continue\n",
    "            elif item == \"latitude\":\n",
    "                try:\n",
    "                    selected_geo_row.append(row['sender_info']['geo']['ll'][1])\n",
    "                except KeyError:\n",
    "                    selected_geo_row.append(\"\")\n",
    "                    continue\n",
    "            else:\n",
    "                selected_geo_row.append(row[item])\n",
    "        geo_events.append(selected_geo_row)"
   ]
  },
  {
   "cell_type": "code",
   "execution_count": null,
   "metadata": {
    "collapsed": false
   },
   "outputs": [],
   "source": [
    "# # To create a pandas dataframe from the events list\n",
    "geo_df = pd.DataFrame(geo_events, columns=geo_columns)\n",
    "\n",
    "# To preview the dataframe by first 5 rows.\n",
    "geo_df.head()"
   ]
  },
  {
   "cell_type": "code",
   "execution_count": null,
   "metadata": {
    "collapsed": false
   },
   "outputs": [],
   "source": [
    "# To create a new dataframe for the objects that containing 'longitude' and 'latitude' variables\n",
    "geo_ll_df = geo_df[geo_df['longitude'] != \"\"]\n",
    "\n",
    "# To create a new dataframe for the objects from purchase events\n",
    "purchase_ll_df = geo_ll_df[geo_ll_df['type'] == \"launch\"]\n",
    "\n",
    "# To visualize the 'longitude' and 'latitude' infomation n maps\n",
    "events_map = folium.Map(location=[60.1699,  24.9384], zoom_start=11) # set the start location in Warsaw and zoom at 4\n",
    "marker_cluster = folium.MarkerCluster().add_to(events_map)\n",
    "\n",
    "for name, row in purchase_ll_df.iterrows():\n",
    "    # mark the map with 'longitude' and 'latitude', and see sources of events when clinking\n",
    "    folium.Marker([row[\"longitude\"], row[\"latitude\"]], popup=row[\"source\"]).add_to(marker_cluster)\n",
    "events_map # show the map here"
   ]
  },
  {
   "cell_type": "markdown",
   "metadata": {
    "collapsed": true
   },
   "source": [
    "**So it seems that **\n",
    "\n"
   ]
  },
  {
   "cell_type": "markdown",
   "metadata": {
    "collapsed": true
   },
   "source": [
    "### How would you store the data so that further processing and/or analysis would be easy?"
   ]
  },
  {
   "cell_type": "markdown",
   "metadata": {},
   "source": [
    "I would like to use jsonb in PostgreSQL to store the original and generated json data on a single machine. Although it will take more disk space and more time to build, but it would save much more time for analysis operations. If possiable, I'd also like to choose a HDFS data storage format to store."
   ]
  },
  {
   "cell_type": "markdown",
   "metadata": {
    "collapsed": true
   },
   "source": [
    "### If you should prepare a maintenance time for the processor, when would you do it in order to cause minimal impact to products?"
   ]
  },
  {
   "cell_type": "code",
   "execution_count": null,
   "metadata": {
    "collapsed": false
   },
   "outputs": [],
   "source": [
    "# Select 'create_time' from timestamps_df and convert them to hour data\n",
    "\n",
    "timestamps_df['create_time'] = timestamps_df['create_time'].apply(time_transfer)\n",
    "timestamps_df['create_hour'] = timestamps_df['create_time'].apply(lambda x: x.hour)\n",
    "\n",
    "# split and create new dataframes for each product\n",
    "product_a_df = timestamps_df[timestamps_df['source']=='product-a']\n",
    "product_b_df = timestamps_df[timestamps_df['source']=='product-b']\n",
    "product_c_df = timestamps_df[timestamps_df['source']=='product-c']\n",
    "product_d_df = timestamps_df[timestamps_df['source']=='product-d']"
   ]
  },
  {
   "cell_type": "code",
   "execution_count": null,
   "metadata": {
    "collapsed": false
   },
   "outputs": [],
   "source": [
    "# count intercation frequent hours for each product\n",
    "\n",
    "hour_a_df = product_a_df['create_hour'].value_counts().reset_index().sort_values(['index'])\n",
    "hour_a_df.columns = ['hour', 'created_hour']\n",
    "hour_b_df = product_b_df['create_hour'].value_counts().reset_index().sort_values(['index'])\n",
    "hour_b_df.columns = ['hour', 'created_hour']\n",
    "hour_c_df = product_c_df['create_hour'].value_counts().reset_index().sort_values(['index'])\n",
    "hour_c_df.columns = ['hour', 'created_hour']\n",
    "hour_d_df = product_d_df['create_hour'].value_counts().reset_index().sort_values(['index'])\n",
    "hour_d_df.columns = ['hour', 'created_hour']"
   ]
  },
  {
   "cell_type": "code",
   "execution_count": null,
   "metadata": {
    "collapsed": false
   },
   "outputs": [],
   "source": [
    "# To plot the above results\n",
    "\n",
    "fig = plt.figure(figsize=(18,6)) # set a new figure\n",
    "\n",
    "ax1 = fig.add_subplot(141)\n",
    "ax1.bar(hour_a_df['hour'],hour_a_df['created_hour'])\n",
    "ax1.set_title('Product A')\n",
    "\n",
    "ax2 = fig.add_subplot(142)\n",
    "ax2.bar(hour_b_df['hour'],hour_b_df['created_hour'])\n",
    "ax2.set_title('Product B')\n",
    "\n",
    "ax3 = fig.add_subplot(143)\n",
    "ax3.bar(hour_c_df['hour'],hour_c_df['created_hour'])\n",
    "ax3.set_title('Product C')\n",
    "\n",
    "ax4 = fig.add_subplot(144)\n",
    "ax4.bar(hour_d_df['hour'],hour_d_df['created_hour'])\n",
    "ax4.set_title('Product D')"
   ]
  },
  {
   "cell_type": "markdown",
   "metadata": {},
   "source": [
    "**So for every product, 2:00 - 4:00 AM seems a good time to do maintenance. For example, if it would take 1 hour for product-b  maintenance, I would choose 3:00 - 4:00 AM.**"
   ]
  },
  {
   "cell_type": "markdown",
   "metadata": {
    "collapsed": true
   },
   "source": [
    "### Which device has longest ‘activity time’ max('first event – latest event')"
   ]
  },
  {
   "cell_type": "code",
   "execution_count": null,
   "metadata": {
    "collapsed": false
   },
   "outputs": [],
   "source": [
    "# device_activity_df = timestamps_df.groupby(['device_id', 'source'],as_index = False)\n",
    "\n",
    "# To create a new pandas dataframe from timestamps_df\n",
    "device_activity_df = timestamps_df[['device_id','source', 'create_time']]\n",
    "\n",
    "# A method to calculae the longest activity time for a device\n",
    "def activity_calculator(id):\n",
    "    creat_time_list = list(device_activity_df[device_activity_df['device_id']==id]['create_time'])\n",
    "    max_value = max(creat_time_list)\n",
    "    min_value = min(creat_time_list)\n",
    "    return max_value - min_value\n",
    "\n",
    "# apply the activity_calculator method\n",
    "device_activity_df['max_activity_time'] = device_activity_df['device_id'].apply(activity_calculator)"
   ]
  },
  {
   "cell_type": "code",
   "execution_count": null,
   "metadata": {
    "collapsed": false
   },
   "outputs": [],
   "source": [
    "device_activity_df.sort_values('max_activity_time', ascending=False)"
   ]
  },
  {
   "cell_type": "code",
   "execution_count": null,
   "metadata": {
    "collapsed": false
   },
   "outputs": [],
   "source": [
    "# device_activity_df[device_activity_df['device_id']=='c475d6288281a560803510102bbbb742a5cc838d'].sort_values('create_time')"
   ]
  },
  {
   "cell_type": "code",
   "execution_count": null,
   "metadata": {
    "collapsed": true
   },
   "outputs": [],
   "source": []
  }
 ],
 "metadata": {
  "kernelspec": {
   "display_name": "Python 3",
   "language": "python",
   "name": "python3"
  },
  "language_info": {
   "codemirror_mode": {
    "name": "ipython",
    "version": 3
   },
   "file_extension": ".py",
   "mimetype": "text/x-python",
   "name": "python",
   "nbconvert_exporter": "python",
   "pygments_lexer": "ipython3",
   "version": "3.5.2"
  }
 },
 "nbformat": 4,
 "nbformat_minor": 0
}
